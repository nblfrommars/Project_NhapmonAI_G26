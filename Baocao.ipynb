{
 "cells": [
  {
   "cell_type": "markdown",
   "id": "0d5c1032",
   "metadata": {},
   "source": [
    "Báo cáo Project \n",
    "Lớp TTNT - 162297 Nhóm G26\n",
    "1. Thông tin chung:\n",
    "Thành viên:\n",
    "Nguyễn Thu Trang - MSSV:\n",
    "Nguyễn Bảo Linh - MSSV: 20235362\n",
    "Mai Quỳnh Hoa - MSSV:\n",
    "Phạm Việt Cường - MSSV:\n",
    "2. Đề xuất Project:\n",
    "* Bài toán:\n",
    "\n",
    "* Phương pháp:\n",
    "* Phân công:"
   ]
  }
 ],
 "metadata": {
  "language_info": {
   "name": "python"
  }
 },
 "nbformat": 4,
 "nbformat_minor": 5
}
