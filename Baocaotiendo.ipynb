{
 "cells": [
  {
   "cell_type": "markdown",
   "id": "6749f066",
   "metadata": {},
   "source": [
    "# **BÁO CÁO MÔN NHẬP MÔN TRÍ TUỆ NHÂN TẠO**"
   ]
  },
  {
   "cell_type": "markdown",
   "id": "bcce19ca",
   "metadata": {},
   "source": [
    "Lớp TTNT - 162297 Nhóm G26\n",
    "## Chủ đề: Tìm đường đi trong ma trận 2 chiều."
   ]
  },
  {
   "cell_type": "markdown",
   "id": "a4b9409a",
   "metadata": {},
   "source": [
    "## 1. Thông tin chung"
   ]
  },
  {
   "cell_type": "markdown",
   "id": "4c4d2181",
   "metadata": {},
   "source": [
    "### Thành viên:\n",
    "- Nguyễn Thu Trang - MSSV:\n",
    "- Nguyễn Bảo Linh - MSSV: 20235362\n",
    "- Mai Quỳnh Hoa - MSSV:\n",
    "- Phạm Việt Cường - MSSV:"
   ]
  },
  {
   "cell_type": "markdown",
   "id": "c1bc8b55",
   "metadata": {},
   "source": [
    "### Lịch thực hiện\n",
    "- W02: Đăng ký nhóm \n",
    "- W03: Đề xuất project (28/9)\n",
    "- W08: Báo cáo tiến độ giữa kỳ (1/11)\n",
    "- W15: Hoàn thành và gửi báo cáo project (20/12)\n",
    "- W16-18: Trình bày project, Q&A"
   ]
  },
  {
   "cell_type": "markdown",
   "id": "224fe55c",
   "metadata": {},
   "source": [
    "## 2. Đề xuất project (W3)"
   ]
  },
  {
   "cell_type": "markdown",
   "id": "14d5bd91",
   "metadata": {},
   "source": [
    "### Bài toán"
   ]
  },
  {
   "cell_type": "markdown",
   "id": "f9e2e96a",
   "metadata": {},
   "source": [
    "\n",
    "- Bài toán tìm đường đi trong mê cung có đích\n",
    "- Đây là bài toán được ứng dụng thường xuyên trong tìm đường đi trong không gian hai chiều.\n",
    "- Mê cung được mô tả dưới dạng ma trận hai chiều, trong đó:\n",
    "- Các ô không màu: Cho đi qua.\n",
    "- Các ô có màu: Không cho đi qua."
   ]
  },
  {
   "cell_type": "markdown",
   "id": "527fddf4",
   "metadata": {},
   "source": [
    "### Phương pháp"
   ]
  },
  {
   "cell_type": "markdown",
   "id": "1e061f6f",
   "metadata": {},
   "source": [
    "Nhóm đề xuất 2 phương án:\n",
    "## a. Giải quyết bài toán bằng thuật toán Dijkstra\n",
    "### Ý tưởng chính\n",
    "Thuật toán Dijkstra là một giải thuật tìm đường đi ngắn nhất trên đồ thị có trọng số không âm.\n"
   ]
  },
  {
   "cell_type": "markdown",
   "id": "9866898f",
   "metadata": {},
   "source": [
    "- Trong bài toán mê cung:\n",
    " Mỗi ô (cell) trong mê cung là một đỉnh (node).\n",
    "+ Các cạnh (edges) nối giữa ô và các ô kề (trên, dưới, trái, phải).\n",
    "+ Trọng số cạnh thường = 1 (di chuyển một bước).\n",
    "+ Xuất phát từ S, dist[S] = 0.\n"
   ]
  },
  {
   "cell_type": "markdown",
   "id": "458299d3",
   "metadata": {},
   "source": [
    "### Nguyên lý:\n",
    "1. Chọn S → cập nhật 4 ô lân cận.\n",
    "2. Trong hàng đợi, chọn ô có khoảng cách nhỏ nhất → xử lý tiếp.\n",
    "3. Mỗi lần chọn ô ra, khoảng cách của nó được cố định.\n",
    "4. Lặp cho đến khi lấy được ô đích G ra khỏi hàng đợi → đây chính là đường ngắn nhất.\n",
    "Mục tiêu: tìm đường ngắn nhất từ ô xuất phát (start) đến ô đích (goal).\n"
   ]
  },
  {
   "cell_type": "markdown",
   "id": "2a6ab28c",
   "metadata": {},
   "source": [
    "## b. Sử dụng giải thuật BFS:\n",
    "### Ý tưởng chính\n",
    "BFS (tìm kiếm theo chiều rộng) = duyệt mê cung từng lớp (layer).\n",
    "Bắt đầu từ ô xuất phát (S), BFS sẽ thăm tất cả các ô kề gần nhất, sau đó mới đến các ô xa hơn một bước, rồi xa hơn hai bước, …\n",
    "Do mỗi bước di chuyển trong mê cung đều có trọng số bằng nhau (1), BFS sẽ đảm bảo khi ta tìm được ô đích G thì đó chính là đường ngắn nhất.\n",
    "### Nguyên lý:\n",
    "1. Dùng hàng đợi (queue):\n",
    "- Khởi tạo: đưa S vào hàng đợi, đánh dấu đã thăm.\n",
    "2. Lặp:\n",
    "- Lấy một ô u ra khỏi queue.\n",
    "- Xét tất cả các ô kề v (lên, xuống, trái, phải).\n",
    "- Nếu v chưa thăm:\n",
    "Đưa v vào queue.\n",
    "3. Lưu parent[v] = u để truy vết đường đi.\n",
    "4. Kết thúc:\n",
    "- Khi gặp G, ta dừng lại.\n",
    "- Dùng parent[] để truy ngược từ G về S → chính là đường đi ngắn nhất."
   ]
  },
  {
   "cell_type": "markdown",
   "id": "1dfbf197",
   "metadata": {},
   "source": [
    "## Phân công"
   ]
  },
  {
   "cell_type": "markdown",
   "id": "7f016619",
   "metadata": {},
   "source": [
    "- Xây dựng giao diện:\n",
    "- Xây dựng thuật toán Dijsktra:\n",
    "- Xây dưng thuật toán BFS:\n",
    "- Xây dựng ma trận:"
   ]
  }
 ],
 "metadata": {
  "language_info": {
   "name": "python"
  }
 },
 "nbformat": 4,
 "nbformat_minor": 5
}
